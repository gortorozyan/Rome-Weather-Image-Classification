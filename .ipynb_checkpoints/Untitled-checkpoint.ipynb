{
 "cells": [
  {
   "cell_type": "code",
   "execution_count": null,
   "id": "87b50dd5-635b-4677-b9c8-00b15f683abc",
   "metadata": {},
   "outputs": [],
   "source": [
    "import pandas as pd\n",
    "import numpy as np\n",
    "import os\n",
    "import matplotlib.image as mpimg\n",
    "import matplotlib.pyplot as plt\n",
    "import cv2\n",
    "from keras import Sequential\n",
    "from keras.layers import Dense, Conv2D, MaxPooling2D, Flatten\n",
    "from keras.utils import to_categorical"
   ]
  },
  {
   "cell_type": "code",
   "execution_count": null,
   "id": "87b01a6f-6acc-4b27-bb86-74518456b453",
   "metadata": {},
   "outputs": [],
   "source": [
    "weather = [i for i in os.listdir('./')][1:-1]"
   ]
  },
  {
   "cell_type": "code",
   "execution_count": null,
   "id": "9948c054-3f47-438c-9778-190ddbd8ea69",
   "metadata": {},
   "outputs": [],
   "source": [
    "weather"
   ]
  },
  {
   "cell_type": "code",
   "execution_count": null,
   "id": "9b751c9a-8990-4246-bd5a-42a7889fad0e",
   "metadata": {},
   "outputs": [],
   "source": [
    "Cloudy = [i for i in os.listdir(weather[0])]\n",
    "Foggy = [i for i in os.listdir(weather[1])]\n",
    "Rainy = [i for i in os.listdir(weather[2])]\n",
    "Snowy = [i for i in os.listdir(weather[3])]\n",
    "Sunny = [i for i in os.listdir(weather[4])]\n",
    "\n",
    "Cloudy_y = [0 for i in range(0, 50)] \n",
    "Foggy_y = [1 for i in range(0, 50)] \n",
    "Rainy_y = [2 for i in range(0, 50)] \n",
    "Snowy_y = [3 for i in range(0, 50)] \n",
    "Sunny_y = [4 for i in range(0, 50)] \n"
   ]
  },
  {
   "cell_type": "code",
   "execution_count": null,
   "id": "336574fb-fcdf-443c-afd1-dc1182743a8e",
   "metadata": {},
   "outputs": [],
   "source": [
    "data = Cloudy + Foggy + Rainy + Snowy + Sunny\n",
    "labels = Cloudy_y + Foggy_y + Rainy_y + Snowy_y + Sunny_y"
   ]
  },
  {
   "cell_type": "code",
   "execution_count": null,
   "id": "88034bfe-c070-4a14-951c-5bcb0baa0010",
   "metadata": {},
   "outputs": [],
   "source": [
    "df = pd.DataFrame({\n",
    "    'Weather_Condition': data,\n",
    "    'Weather_Type': labels,\n",
    "    'Weather':labels\n",
    "})\n",
    "weather_map = {0: 'Cloudy', 1: 'Foggy', 2: 'Rainy', 3: 'Snowy', 4: 'Sunny'}\n",
    "df['Weather_Type'] = df['Weather_Type'].map(weather_map)"
   ]
  },
  {
   "cell_type": "code",
   "execution_count": null,
   "id": "390a9312-1e6f-4b09-add7-58176cf9dbdd",
   "metadata": {},
   "outputs": [],
   "source": [
    "def preprocess_image(image_path, type_weather):\n",
    "    image = cv2.imread(f'./{type_weather}/{image_path}', cv2.IMREAD_GRAYSCALE)\n",
    "    if image is None:\n",
    "        raise FileNotFoundError(f\"Image not found for {type_weather}/{image_path}\")\n",
    "    image = cv2.resize(image, (200, 275))\n",
    "    image = image / 255.0\n",
    "    image = np.reshape(image, (200, 275, 1))\n",
    "    return image\n",
    "\n",
    "# Correcting the lambda function to use row values\n",
    "df['processed_image'] = df.apply(lambda row: preprocess_image(row['Weather_Condition'], row['Weather_Type']), axis=1)"
   ]
  },
  {
   "cell_type": "code",
   "execution_count": null,
   "id": "c697a0f0-0bf9-4d2a-9594-1beaaf4f2980",
   "metadata": {},
   "outputs": [],
   "source": [
    "df_shuffled = df.sample(frac=1).reset_index(drop=True)"
   ]
  },
  {
   "cell_type": "code",
   "execution_count": null,
   "id": "5e2cccc2-d274-41ca-a4e5-4dacd861d797",
   "metadata": {},
   "outputs": [],
   "source": [
    "df_shuffled[df_shuffled['Weather'] == 3]"
   ]
  },
  {
   "cell_type": "code",
   "execution_count": null,
   "id": "06ed812e-c105-4b31-b5f8-5690abff670a",
   "metadata": {},
   "outputs": [],
   "source": [
    "X_train, y_train = np.array(df_shuffled['processed_image'].tolist()), np.array(to_categorical(df_shuffled['Weather']))"
   ]
  },
  {
   "cell_type": "code",
   "execution_count": null,
   "id": "d966e664-9fe8-4414-91e2-75d6e3d9027d",
   "metadata": {},
   "outputs": [],
   "source": [
    "X_train.shape"
   ]
  },
  {
   "cell_type": "code",
   "execution_count": null,
   "id": "b9e7dbc5-7e05-40f4-8423-ca09e9ff8ccf",
   "metadata": {},
   "outputs": [],
   "source": [
    "model = Sequential()"
   ]
  },
  {
   "cell_type": "code",
   "execution_count": null,
   "id": "8234702f-5891-46d8-b44b-3f72617aaee3",
   "metadata": {},
   "outputs": [],
   "source": [
    "model.add(Conv2D(filters=64, kernel_size=(2,2), activation='relu', input_shape=(200, 275, 1)))\n",
    "model.add(MaxPooling2D(pool_size=(2, 2)))\n",
    "model.add(Conv2D(filters=32, kernel_size=(2,2), activation='relu'))\n",
    "model.add(MaxPooling2D(pool_size=(2, 2)))\n",
    "model.add(Flatten())\n",
    "model.add(Dense(80, activation='relu'))\n",
    "model.add(Dense(40, activation='relu'))\n",
    "model.add(Dense(20, activation='relu'))\n",
    "model.add(Dense(5, activation='softmax'))\n",
    "\n",
    "model.compile(optimizer='adam', loss='categorical_crossentropy', metrics=['accuracy'])"
   ]
  },
  {
   "cell_type": "code",
   "execution_count": null,
   "id": "6f8b1925-acb8-4e8e-84ce-4c892257c4fe",
   "metadata": {},
   "outputs": [],
   "source": [
    "model.fit(X_train, y_train, validation_split=0.2, batch_size=32, epochs=15)"
   ]
  },
  {
   "cell_type": "code",
   "execution_count": null,
   "id": "766abfbd-b3e0-4936-84f2-c77254340e42",
   "metadata": {},
   "outputs": [],
   "source": []
  }
 ],
 "metadata": {
  "kernelspec": {
   "display_name": "Python 3 (ipykernel)",
   "language": "python",
   "name": "python3"
  },
  "language_info": {
   "codemirror_mode": {
    "name": "ipython",
    "version": 3
   },
   "file_extension": ".py",
   "mimetype": "text/x-python",
   "name": "python",
   "nbconvert_exporter": "python",
   "pygments_lexer": "ipython3",
   "version": "3.12.5"
  }
 },
 "nbformat": 4,
 "nbformat_minor": 5
}
